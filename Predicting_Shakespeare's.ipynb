{
  "nbformat": 4,
  "nbformat_minor": 0,
  "metadata": {
    "accelerator": "GPU",
    "colab": {
      "name": "NLP_Week4_Exercise_Shakespeare_Answer.ipynb",
      "provenance": [],
      "toc_visible": true
    },
    "kernelspec": {
      "display_name": "Python 3",
      "name": "python3"
    }
  },
  "cells": [
    {
      "cell_type": "code",
      "metadata": {
        "id": "zX4Kg8DUTKWO",
        "colab_type": "code",
        "colab": {}
      },
      "source": [
        ""
      ],
      "execution_count": 0,
      "outputs": []
    },
    {
      "cell_type": "code",
      "metadata": {
        "colab_type": "code",
        "id": "BOwsuGQQY9OL",
        "colab": {}
      },
      "source": [
        "from tensorflow.keras.preprocessing.sequence import pad_sequences\n",
        "from tensorflow.keras.layers import Embedding, LSTM, Dense, Dropout, Bidirectional\n",
        "from tensorflow.keras.preprocessing.text import Tokenizer\n",
        "from tensorflow.keras.models import Sequential\n",
        "from tensorflow.keras.optimizers import Adam\n",
        "from tensorflow.keras import regularizers\n",
        "import tensorflow.keras.utils as ku \n",
        "import numpy as np "
      ],
      "execution_count": 0,
      "outputs": []
    },
    {
      "cell_type": "code",
      "metadata": {
        "colab_type": "code",
        "id": "PRnDnCW-Z7qv",
        "colab": {
          "base_uri": "https://localhost:8080/",
          "height": 204
        },
        "outputId": "6345a2b6-1a5d-43f2-9739-eeae368a3127"
      },
      "source": [
        "tokenizer = Tokenizer()\n",
        "!wget --no-check-certificate \\\n",
        "    https://storage.googleapis.com/laurencemoroney-blog.appspot.com/sonnets.txt \\\n",
        "    -O /tmp/sonnets.txt\n",
        "data = open('/tmp/sonnets.txt').read()\n",
        "\n",
        "corpus = data.lower().split(\"\\n\")\n",
        "\n",
        "\n",
        "tokenizer.fit_on_texts(corpus)\n",
        "total_words = len(tokenizer.word_index) + 1\n",
        "\n",
        "# create input sequences using list of tokens\n",
        "input_sequences = []\n",
        "for line in corpus:\n",
        "\ttoken_list = tokenizer.texts_to_sequences([line])[0]\n",
        "\tfor i in range(1, len(token_list)):\n",
        "\t\tn_gram_sequence = token_list[:i+1]\n",
        "\t\tinput_sequences.append(n_gram_sequence)\n",
        "\n",
        "\n",
        "# pad sequences \n",
        "max_sequence_len = max([len(x) for x in input_sequences])\n",
        "input_sequences = np.array(pad_sequences(input_sequences, maxlen=max_sequence_len, padding='pre'))\n",
        "\n",
        "# create predictors and label\n",
        "predictors, label = input_sequences[:,:-1],input_sequences[:,-1]\n",
        "\n",
        "label = ku.to_categorical(label, num_classes=total_words)"
      ],
      "execution_count": 2,
      "outputs": [
        {
          "output_type": "stream",
          "text": [
            "--2020-05-29 17:55:30--  https://storage.googleapis.com/laurencemoroney-blog.appspot.com/sonnets.txt\n",
            "Resolving storage.googleapis.com (storage.googleapis.com)... 108.177.125.128, 2404:6800:4008:c03::80\n",
            "Connecting to storage.googleapis.com (storage.googleapis.com)|108.177.125.128|:443... connected.\n",
            "HTTP request sent, awaiting response... 200 OK\n",
            "Length: 93578 (91K) [text/plain]\n",
            "Saving to: ‘/tmp/sonnets.txt’\n",
            "\n",
            "\r/tmp/sonnets.txt      0%[                    ]       0  --.-KB/s               \r/tmp/sonnets.txt    100%[===================>]  91.38K  --.-KB/s    in 0.001s  \n",
            "\n",
            "2020-05-29 17:55:31 (67.1 MB/s) - ‘/tmp/sonnets.txt’ saved [93578/93578]\n",
            "\n"
          ],
          "name": "stdout"
        }
      ]
    },
    {
      "cell_type": "code",
      "metadata": {
        "colab_type": "code",
        "id": "w9vH8Y59ajYL",
        "colab": {
          "base_uri": "https://localhost:8080/",
          "height": 374
        },
        "outputId": "e8917c2b-5dfa-4807-fb01-c36314a71576"
      },
      "source": [
        "model = Sequential()\n",
        "model.add(Embedding(total_words, 100, input_length=max_sequence_len-1))\n",
        "model.add(Bidirectional(LSTM(150, return_sequences = True)))\n",
        "model.add(Dropout(0.2))\n",
        "model.add(LSTM(100))\n",
        "model.add(Dense(total_words/2, activation='relu', kernel_regularizer=regularizers.l2(0.01)))\n",
        "model.add(Dense(total_words, activation='softmax'))\n",
        "model.compile(loss='categorical_crossentropy', optimizer='adam', metrics=['accuracy'])\n",
        "print(model.summary())\n"
      ],
      "execution_count": 3,
      "outputs": [
        {
          "output_type": "stream",
          "text": [
            "Model: \"sequential\"\n",
            "_________________________________________________________________\n",
            "Layer (type)                 Output Shape              Param #   \n",
            "=================================================================\n",
            "embedding (Embedding)        (None, 10, 100)           321100    \n",
            "_________________________________________________________________\n",
            "bidirectional (Bidirectional (None, 10, 300)           301200    \n",
            "_________________________________________________________________\n",
            "dropout (Dropout)            (None, 10, 300)           0         \n",
            "_________________________________________________________________\n",
            "lstm_1 (LSTM)                (None, 100)               160400    \n",
            "_________________________________________________________________\n",
            "dense (Dense)                (None, 1605)              162105    \n",
            "_________________________________________________________________\n",
            "dense_1 (Dense)              (None, 3211)              5156866   \n",
            "=================================================================\n",
            "Total params: 6,101,671\n",
            "Trainable params: 6,101,671\n",
            "Non-trainable params: 0\n",
            "_________________________________________________________________\n",
            "None\n"
          ],
          "name": "stdout"
        }
      ]
    },
    {
      "cell_type": "code",
      "metadata": {
        "colab_type": "code",
        "id": "AIg2f1HBxqof",
        "colab": {
          "base_uri": "https://localhost:8080/",
          "height": 1000
        },
        "outputId": "d18df1b9-14c8-4b4c-96d7-b7b11955754e"
      },
      "source": [
        " history = model.fit(predictors, label, epochs=100, verbose=1)"
      ],
      "execution_count": 4,
      "outputs": [
        {
          "output_type": "stream",
          "text": [
            "Epoch 1/100\n",
            "484/484 [==============================] - 12s 25ms/step - loss: 6.9058 - accuracy: 0.0228\n",
            "Epoch 2/100\n",
            "484/484 [==============================] - 12s 26ms/step - loss: 6.4949 - accuracy: 0.0215\n",
            "Epoch 3/100\n",
            "484/484 [==============================] - 13s 26ms/step - loss: 6.3860 - accuracy: 0.0267\n",
            "Epoch 4/100\n",
            "484/484 [==============================] - 12s 26ms/step - loss: 6.2562 - accuracy: 0.0309\n",
            "Epoch 5/100\n",
            "484/484 [==============================] - 13s 26ms/step - loss: 6.1672 - accuracy: 0.0352\n",
            "Epoch 6/100\n",
            "484/484 [==============================] - 13s 26ms/step - loss: 6.0899 - accuracy: 0.0398\n",
            "Epoch 7/100\n",
            "484/484 [==============================] - 12s 26ms/step - loss: 6.0197 - accuracy: 0.0417\n",
            "Epoch 8/100\n",
            "484/484 [==============================] - 12s 25ms/step - loss: 5.9352 - accuracy: 0.0452\n",
            "Epoch 9/100\n",
            "484/484 [==============================] - 12s 25ms/step - loss: 5.8443 - accuracy: 0.0517\n",
            "Epoch 10/100\n",
            "484/484 [==============================] - 12s 25ms/step - loss: 5.7420 - accuracy: 0.0573\n",
            "Epoch 11/100\n",
            "484/484 [==============================] - 12s 26ms/step - loss: 5.6359 - accuracy: 0.0655\n",
            "Epoch 12/100\n",
            "484/484 [==============================] - 13s 26ms/step - loss: 5.5313 - accuracy: 0.0720\n",
            "Epoch 13/100\n",
            "484/484 [==============================] - 12s 26ms/step - loss: 5.4238 - accuracy: 0.0761\n",
            "Epoch 14/100\n",
            "484/484 [==============================] - 12s 26ms/step - loss: 5.3203 - accuracy: 0.0852\n",
            "Epoch 15/100\n",
            "484/484 [==============================] - 12s 26ms/step - loss: 5.2152 - accuracy: 0.0897\n",
            "Epoch 16/100\n",
            "484/484 [==============================] - 12s 26ms/step - loss: 5.1127 - accuracy: 0.0969\n",
            "Epoch 17/100\n",
            "484/484 [==============================] - 12s 26ms/step - loss: 5.0072 - accuracy: 0.1053\n",
            "Epoch 18/100\n",
            "484/484 [==============================] - 12s 26ms/step - loss: 4.9097 - accuracy: 0.1120\n",
            "Epoch 19/100\n",
            "484/484 [==============================] - 12s 26ms/step - loss: 4.8068 - accuracy: 0.1196\n",
            "Epoch 20/100\n",
            "484/484 [==============================] - 12s 26ms/step - loss: 4.7067 - accuracy: 0.1294\n",
            "Epoch 21/100\n",
            "484/484 [==============================] - 12s 26ms/step - loss: 4.6105 - accuracy: 0.1374\n",
            "Epoch 22/100\n",
            "484/484 [==============================] - 13s 26ms/step - loss: 4.5096 - accuracy: 0.1490\n",
            "Epoch 23/100\n",
            "484/484 [==============================] - 13s 26ms/step - loss: 4.4153 - accuracy: 0.1569\n",
            "Epoch 24/100\n",
            "484/484 [==============================] - 13s 26ms/step - loss: 4.3131 - accuracy: 0.1707\n",
            "Epoch 25/100\n",
            "484/484 [==============================] - 12s 25ms/step - loss: 4.2197 - accuracy: 0.1781\n",
            "Epoch 26/100\n",
            "484/484 [==============================] - 12s 26ms/step - loss: 4.1205 - accuracy: 0.1909\n",
            "Epoch 27/100\n",
            "484/484 [==============================] - 12s 26ms/step - loss: 4.0302 - accuracy: 0.2044\n",
            "Epoch 28/100\n",
            "484/484 [==============================] - 13s 26ms/step - loss: 3.9409 - accuracy: 0.2173\n",
            "Epoch 29/100\n",
            "484/484 [==============================] - 12s 26ms/step - loss: 3.8427 - accuracy: 0.2343\n",
            "Epoch 30/100\n",
            "484/484 [==============================] - 12s 26ms/step - loss: 3.7494 - accuracy: 0.2513\n",
            "Epoch 31/100\n",
            "484/484 [==============================] - 12s 26ms/step - loss: 3.6658 - accuracy: 0.2663\n",
            "Epoch 32/100\n",
            "484/484 [==============================] - 13s 26ms/step - loss: 3.5761 - accuracy: 0.2845\n",
            "Epoch 33/100\n",
            "484/484 [==============================] - 13s 26ms/step - loss: 3.4857 - accuracy: 0.3051\n",
            "Epoch 34/100\n",
            "484/484 [==============================] - 13s 26ms/step - loss: 3.4028 - accuracy: 0.3248\n",
            "Epoch 35/100\n",
            "484/484 [==============================] - 13s 26ms/step - loss: 3.3280 - accuracy: 0.3406\n",
            "Epoch 36/100\n",
            "484/484 [==============================] - 13s 26ms/step - loss: 3.2557 - accuracy: 0.3539\n",
            "Epoch 37/100\n",
            "484/484 [==============================] - 13s 26ms/step - loss: 3.1691 - accuracy: 0.3710\n",
            "Epoch 38/100\n",
            "484/484 [==============================] - 12s 25ms/step - loss: 3.1009 - accuracy: 0.3880\n",
            "Epoch 39/100\n",
            "484/484 [==============================] - 12s 26ms/step - loss: 3.0375 - accuracy: 0.4056\n",
            "Epoch 40/100\n",
            "484/484 [==============================] - 12s 26ms/step - loss: 2.9606 - accuracy: 0.4211\n",
            "Epoch 41/100\n",
            "484/484 [==============================] - 12s 26ms/step - loss: 2.8976 - accuracy: 0.4358\n",
            "Epoch 42/100\n",
            "484/484 [==============================] - 12s 25ms/step - loss: 2.8429 - accuracy: 0.4525\n",
            "Epoch 43/100\n",
            "484/484 [==============================] - 12s 26ms/step - loss: 2.7831 - accuracy: 0.4617\n",
            "Epoch 44/100\n",
            "484/484 [==============================] - 12s 26ms/step - loss: 2.7145 - accuracy: 0.4790\n",
            "Epoch 45/100\n",
            "484/484 [==============================] - 12s 25ms/step - loss: 2.6522 - accuracy: 0.4957\n",
            "Epoch 46/100\n",
            "484/484 [==============================] - 12s 26ms/step - loss: 2.6083 - accuracy: 0.4982\n",
            "Epoch 47/100\n",
            "484/484 [==============================] - 12s 26ms/step - loss: 2.5539 - accuracy: 0.5184\n",
            "Epoch 48/100\n",
            "484/484 [==============================] - 12s 26ms/step - loss: 2.4975 - accuracy: 0.5305\n",
            "Epoch 49/100\n",
            "484/484 [==============================] - 12s 26ms/step - loss: 2.4386 - accuracy: 0.5373\n",
            "Epoch 50/100\n",
            "484/484 [==============================] - 13s 26ms/step - loss: 2.4097 - accuracy: 0.5496\n",
            "Epoch 51/100\n",
            "484/484 [==============================] - 12s 26ms/step - loss: 2.3611 - accuracy: 0.5595\n",
            "Epoch 52/100\n",
            "484/484 [==============================] - 12s 26ms/step - loss: 2.2957 - accuracy: 0.5755\n",
            "Epoch 53/100\n",
            "484/484 [==============================] - 12s 25ms/step - loss: 2.2537 - accuracy: 0.5823\n",
            "Epoch 54/100\n",
            "484/484 [==============================] - 12s 25ms/step - loss: 2.2175 - accuracy: 0.5913\n",
            "Epoch 55/100\n",
            "484/484 [==============================] - 12s 26ms/step - loss: 2.1863 - accuracy: 0.6012\n",
            "Epoch 56/100\n",
            "484/484 [==============================] - 12s 25ms/step - loss: 2.1343 - accuracy: 0.6121\n",
            "Epoch 57/100\n",
            "484/484 [==============================] - 12s 25ms/step - loss: 2.0937 - accuracy: 0.6188\n",
            "Epoch 58/100\n",
            "484/484 [==============================] - 12s 26ms/step - loss: 2.0665 - accuracy: 0.6217\n",
            "Epoch 59/100\n",
            "484/484 [==============================] - 12s 25ms/step - loss: 2.0207 - accuracy: 0.6353\n",
            "Epoch 60/100\n",
            "484/484 [==============================] - 12s 25ms/step - loss: 1.9823 - accuracy: 0.6441\n",
            "Epoch 61/100\n",
            "484/484 [==============================] - 12s 26ms/step - loss: 1.9542 - accuracy: 0.6515\n",
            "Epoch 62/100\n",
            "484/484 [==============================] - 12s 26ms/step - loss: 1.9165 - accuracy: 0.6552\n",
            "Epoch 63/100\n",
            "484/484 [==============================] - 12s 25ms/step - loss: 1.8844 - accuracy: 0.6666\n",
            "Epoch 64/100\n",
            "484/484 [==============================] - 12s 25ms/step - loss: 1.8477 - accuracy: 0.6727\n",
            "Epoch 65/100\n",
            "484/484 [==============================] - 12s 25ms/step - loss: 1.8242 - accuracy: 0.6780\n",
            "Epoch 66/100\n",
            "484/484 [==============================] - 12s 25ms/step - loss: 1.7934 - accuracy: 0.6836\n",
            "Epoch 67/100\n",
            "484/484 [==============================] - 12s 25ms/step - loss: 1.7745 - accuracy: 0.6884\n",
            "Epoch 68/100\n",
            "484/484 [==============================] - 12s 26ms/step - loss: 1.7356 - accuracy: 0.6956\n",
            "Epoch 69/100\n",
            "484/484 [==============================] - 12s 25ms/step - loss: 1.7162 - accuracy: 0.6962\n",
            "Epoch 70/100\n",
            "484/484 [==============================] - 12s 25ms/step - loss: 1.6875 - accuracy: 0.7051\n",
            "Epoch 71/100\n",
            "484/484 [==============================] - 12s 25ms/step - loss: 1.6600 - accuracy: 0.7147\n",
            "Epoch 72/100\n",
            "484/484 [==============================] - 12s 26ms/step - loss: 1.6377 - accuracy: 0.7174\n",
            "Epoch 73/100\n",
            "484/484 [==============================] - 12s 26ms/step - loss: 1.6106 - accuracy: 0.7203\n",
            "Epoch 74/100\n",
            "484/484 [==============================] - 12s 25ms/step - loss: 1.5873 - accuracy: 0.7274\n",
            "Epoch 75/100\n",
            "484/484 [==============================] - 12s 26ms/step - loss: 1.5720 - accuracy: 0.7289\n",
            "Epoch 76/100\n",
            "484/484 [==============================] - 13s 26ms/step - loss: 1.5514 - accuracy: 0.7335\n",
            "Epoch 77/100\n",
            "484/484 [==============================] - 13s 26ms/step - loss: 1.5313 - accuracy: 0.7383\n",
            "Epoch 78/100\n",
            "484/484 [==============================] - 13s 26ms/step - loss: 1.5129 - accuracy: 0.7410\n",
            "Epoch 79/100\n",
            "484/484 [==============================] - 13s 26ms/step - loss: 1.4874 - accuracy: 0.7476\n",
            "Epoch 80/100\n",
            "484/484 [==============================] - 12s 26ms/step - loss: 1.4602 - accuracy: 0.7537\n",
            "Epoch 81/100\n",
            "484/484 [==============================] - 12s 25ms/step - loss: 1.4450 - accuracy: 0.7527\n",
            "Epoch 82/100\n",
            "484/484 [==============================] - 12s 25ms/step - loss: 1.4284 - accuracy: 0.7556\n",
            "Epoch 83/100\n",
            "484/484 [==============================] - 12s 25ms/step - loss: 1.4180 - accuracy: 0.7580\n",
            "Epoch 84/100\n",
            "484/484 [==============================] - 12s 25ms/step - loss: 1.3984 - accuracy: 0.7630\n",
            "Epoch 85/100\n",
            "484/484 [==============================] - 12s 25ms/step - loss: 1.3985 - accuracy: 0.7603\n",
            "Epoch 86/100\n",
            "484/484 [==============================] - 12s 25ms/step - loss: 1.3740 - accuracy: 0.7670\n",
            "Epoch 87/100\n",
            "484/484 [==============================] - 13s 26ms/step - loss: 1.3556 - accuracy: 0.7685\n",
            "Epoch 88/100\n",
            "484/484 [==============================] - 13s 26ms/step - loss: 1.3448 - accuracy: 0.7700\n",
            "Epoch 89/100\n",
            "484/484 [==============================] - 12s 26ms/step - loss: 1.3288 - accuracy: 0.7707\n",
            "Epoch 90/100\n",
            "484/484 [==============================] - 12s 26ms/step - loss: 1.3059 - accuracy: 0.7765\n",
            "Epoch 91/100\n",
            "484/484 [==============================] - 12s 26ms/step - loss: 1.3033 - accuracy: 0.7752\n",
            "Epoch 92/100\n",
            "484/484 [==============================] - 12s 25ms/step - loss: 1.2795 - accuracy: 0.7811\n",
            "Epoch 93/100\n",
            "484/484 [==============================] - 12s 25ms/step - loss: 1.2780 - accuracy: 0.7815\n",
            "Epoch 94/100\n",
            "484/484 [==============================] - 12s 26ms/step - loss: 1.2542 - accuracy: 0.7854\n",
            "Epoch 95/100\n",
            "484/484 [==============================] - 12s 25ms/step - loss: 1.2571 - accuracy: 0.7836\n",
            "Epoch 96/100\n",
            "484/484 [==============================] - 12s 26ms/step - loss: 1.2353 - accuracy: 0.7901\n",
            "Epoch 97/100\n",
            "484/484 [==============================] - 12s 26ms/step - loss: 1.2254 - accuracy: 0.7927\n",
            "Epoch 98/100\n",
            "484/484 [==============================] - 13s 26ms/step - loss: 1.2092 - accuracy: 0.7935\n",
            "Epoch 99/100\n",
            "484/484 [==============================] - 12s 25ms/step - loss: 1.1989 - accuracy: 0.7947\n",
            "Epoch 100/100\n",
            "484/484 [==============================] - 12s 25ms/step - loss: 1.1823 - accuracy: 0.7974\n"
          ],
          "name": "stdout"
        }
      ]
    },
    {
      "cell_type": "code",
      "metadata": {
        "colab_type": "code",
        "id": "1fXTEO3GJ282",
        "colab": {
          "base_uri": "https://localhost:8080/",
          "height": 545
        },
        "outputId": "4f00d6d2-10c5-444e-c8de-c3e6b3968b79"
      },
      "source": [
        "import matplotlib.pyplot as plt\n",
        "acc = history.history['accuracy']\n",
        "loss = history.history['loss']\n",
        "\n",
        "epochs = range(len(acc))\n",
        "\n",
        "plt.plot(epochs, acc, 'b', label='Training accuracy')\n",
        "plt.title('Training accuracy')\n",
        "\n",
        "plt.figure()\n",
        "\n",
        "plt.plot(epochs, loss, 'b', label='Training Loss')\n",
        "plt.title('Training loss')\n",
        "plt.legend()\n",
        "\n",
        "plt.show()"
      ],
      "execution_count": 5,
      "outputs": [
        {
          "output_type": "display_data",
          "data": {
            "image/png": "[encoded data removed]",
            "text/plain": [
              "<Figure size 432x288 with 1 Axes>"
            ]
          },
          "metadata": {
            "tags": [],
            "needs_background": "light"
          }
        },
        {
          "output_type": "display_data",
          "data": {
            "image/png": "[encoded data removed]",
            "text/plain": [
              "<Figure size 432x288 with 1 Axes>"
            ]
          },
          "metadata": {
            "tags": [],
            "needs_background": "light"
          }
        }
      ]
    },
    {
      "cell_type": "code",
      "metadata": {
        "colab_type": "code",
        "id": "6Vc6PHgxa6Hm",
        "colab": {
          "base_uri": "https://localhost:8080/",
          "height": 105
        },
        "outputId": "9981c469-6a96-4e60-ec9b-6e8185b54777"
      },
      "source": [
        "seed_text = \"Help me Obi Wan Kenobi, you're my only hope\"\n",
        "next_words = 100\n",
        "  \n",
        "for _ in range(next_words):\n",
        "\ttoken_list = tokenizer.texts_to_sequences([seed_text])[0]\n",
        "\ttoken_list = pad_sequences([token_list], maxlen=max_sequence_len-1, padding='pre')\n",
        "\tpredicted = model.predict_classes(token_list, verbose=0)\n",
        "\toutput_word = \"\"\n",
        "\tfor word, index in tokenizer.word_index.items():\n",
        "\t\tif index == predicted:\n",
        "\t\t\toutput_word = word\n",
        "\t\t\tbreak\n",
        "\tseed_text += \" \" + output_word\n",
        "print(seed_text)"
      ],
      "execution_count": 6,
      "outputs": [
        {
          "output_type": "stream",
          "text": [
            "WARNING:tensorflow:From <ipython-input-6-622d307fa19a>:7: Sequential.predict_classes (from tensorflow.python.keras.engine.sequential) is deprecated and will be removed after 2021-01-01.\n",
            "Instructions for updating:\n",
            "Please use instead:* `np.argmax(model.predict(x), axis=-1)`,   if your model does multi-class classification   (e.g. if it uses a `softmax` last-layer activation).* `(model.predict(x) > 0.5).astype(\"int32\")`,   if your model does binary classification   (e.g. if it uses a `sigmoid` last-layer activation).\n",
            "Help me Obi Wan Kenobi, you're my only hope my comfort thus in keep dead seen day kind new end decays free rare cold rare rare erred green another blood despair in gentle growest gone again back new worth have hate bearing foes ill mad about men prove thee die thee write good ill old leaves near rare shame back her blind state alone in his lawful can find cross sit true 'will ' behind it much back by none wrong alone mad relief arising arising torn torn cold arising remain truly sad skill delight staineth staineth end perpetual small side held go face three worthless song hate deeds\n"
          ],
          "name": "stdout"
        }
      ]
    }
  ]
}